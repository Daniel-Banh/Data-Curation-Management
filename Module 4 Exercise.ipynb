{
 "cells": [
  {
   "cell_type": "markdown",
   "id": "71a27a08",
   "metadata": {},
   "source": [
    "Create a 2x2 numpy array of US v/s GB deaths in two American Revolutionary War battles listed below for US and GB correspondingly (1 point):\n",
    "Battle 1: 344, 2345,\n",
    "Battle 2: 4345, 253\n",
    "Using Numpy Indexing/Slicing methods:\n",
    "Select the entries for US deaths (1 point)\n",
    "Select the entries for GB deaths (1 point)\n",
    "Select the entries for US deaths in the 2nd battle (1 point)\n",
    "Sort this array along the first axis (1 point)\n",
    "Sort this array along the second axis (1 point)\n",
    "Swap rows and columns of this array (1 point)\n",
    "What is the total number of deaths (including for US and GB) for the two battles? (1 point)\n",
    "What is the average number of deaths in each battle (US and GB combined)? (2 points)\n",
    "Replace Battle 2 GB deaths in your array to 5347 (1 point)"
   ]
  },
  {
   "cell_type": "code",
   "execution_count": 70,
   "id": "b4fd180e",
   "metadata": {},
   "outputs": [],
   "source": [
    "import numpy as np"
   ]
  },
  {
   "cell_type": "markdown",
   "id": "79b19aaf",
   "metadata": {},
   "source": [
    "Creating 2x2 Numpy Array of US vs GB deaths in Battles"
   ]
  },
  {
   "cell_type": "code",
   "execution_count": 96,
   "id": "5434e825",
   "metadata": {},
   "outputs": [
    {
     "data": {
      "text/plain": [
       "array([[ 344, 2345],\n",
       "       [4345,  253]])"
      ]
     },
     "execution_count": 96,
     "metadata": {},
     "output_type": "execute_result"
    }
   ],
   "source": [
    "battles = np.array([[344,2345],[4345,253]])\n",
    "battles"
   ]
  },
  {
   "cell_type": "markdown",
   "id": "767c38ed",
   "metadata": {},
   "source": [
    "Selecting entries for US deaths"
   ]
  },
  {
   "cell_type": "code",
   "execution_count": 97,
   "id": "17f65785",
   "metadata": {},
   "outputs": [
    {
     "data": {
      "text/plain": [
       "array([[ 344],\n",
       "       [4345]])"
      ]
     },
     "execution_count": 97,
     "metadata": {},
     "output_type": "execute_result"
    }
   ],
   "source": [
    "battles[:2, 0:1]"
   ]
  },
  {
   "cell_type": "markdown",
   "id": "c58e8494",
   "metadata": {},
   "source": [
    "Selecting entries for GB deaths"
   ]
  },
  {
   "cell_type": "code",
   "execution_count": 98,
   "id": "de7a4558",
   "metadata": {},
   "outputs": [
    {
     "data": {
      "text/plain": [
       "array([[2345],\n",
       "       [ 253]])"
      ]
     },
     "execution_count": 98,
     "metadata": {},
     "output_type": "execute_result"
    }
   ],
   "source": [
    "battles[:2, 1:]"
   ]
  },
  {
   "cell_type": "markdown",
   "id": "dd1b75e8",
   "metadata": {},
   "source": [
    "Selecting entries for US deaths in second battle"
   ]
  },
  {
   "cell_type": "code",
   "execution_count": 99,
   "id": "8de5e9d6",
   "metadata": {},
   "outputs": [
    {
     "data": {
      "text/plain": [
       "array([4345])"
      ]
     },
     "execution_count": 99,
     "metadata": {},
     "output_type": "execute_result"
    }
   ],
   "source": [
    "battles[1, 0:1]"
   ]
  },
  {
   "cell_type": "markdown",
   "id": "a5b5326b",
   "metadata": {},
   "source": [
    "Sort this array along the first axis (sort by row) (1 point)"
   ]
  },
  {
   "cell_type": "code",
   "execution_count": 100,
   "id": "8e6d8842",
   "metadata": {},
   "outputs": [
    {
     "data": {
      "text/plain": [
       "array([[ 344,  253],\n",
       "       [4345, 2345]])"
      ]
     },
     "execution_count": 100,
     "metadata": {},
     "output_type": "execute_result"
    }
   ],
   "source": [
    "battles.sort(axis=0)\n",
    "battles"
   ]
  },
  {
   "cell_type": "markdown",
   "id": "483da33c",
   "metadata": {},
   "source": [
    "Sort this array along the second axis (sort by column) (1 point)"
   ]
  },
  {
   "cell_type": "code",
   "execution_count": 102,
   "id": "ac7dc432",
   "metadata": {},
   "outputs": [
    {
     "data": {
      "text/plain": [
       "array([[ 344, 2345],\n",
       "       [ 253, 4345]])"
      ]
     },
     "execution_count": 102,
     "metadata": {},
     "output_type": "execute_result"
    }
   ],
   "source": [
    "battles = np.array([[344,2345],[4345,253]])\n",
    "battles.sort(axis=1)\n",
    "battles"
   ]
  },
  {
   "cell_type": "markdown",
   "id": "d0d19ea1",
   "metadata": {},
   "source": [
    "Swap rows and columns of this array (1 point)"
   ]
  },
  {
   "cell_type": "code",
   "execution_count": 104,
   "id": "59d7d3e9",
   "metadata": {},
   "outputs": [
    {
     "data": {
      "text/plain": [
       "array([[ 344, 4345],\n",
       "       [2345,  253]])"
      ]
     },
     "execution_count": 104,
     "metadata": {},
     "output_type": "execute_result"
    }
   ],
   "source": [
    "battles = np.array([[344,2345],[4345,253]])\n",
    "battles.T"
   ]
  },
  {
   "cell_type": "markdown",
   "id": "eb78e614",
   "metadata": {},
   "source": [
    "What is the total number of deaths (including for US and GB) for the two battles? (1 point)"
   ]
  },
  {
   "cell_type": "code",
   "execution_count": 105,
   "id": "66c97f03",
   "metadata": {},
   "outputs": [
    {
     "data": {
      "text/plain": [
       "7287"
      ]
     },
     "execution_count": 105,
     "metadata": {},
     "output_type": "execute_result"
    }
   ],
   "source": [
    "battles.sum()"
   ]
  },
  {
   "cell_type": "markdown",
   "id": "3cf18f47",
   "metadata": {},
   "source": [
    "What is the average number of deaths in each battle (US and GB combined)? (2 points)"
   ]
  },
  {
   "cell_type": "code",
   "execution_count": 109,
   "id": "8677c100",
   "metadata": {},
   "outputs": [
    {
     "data": {
      "text/plain": [
       "1821"
      ]
     },
     "execution_count": 109,
     "metadata": {},
     "output_type": "execute_result"
    }
   ],
   "source": [
    "int(battles.mean())"
   ]
  },
  {
   "cell_type": "markdown",
   "id": "6a0fa165",
   "metadata": {},
   "source": [
    "Replace Battle 2 GB deaths in your array to 5347 (1 point)"
   ]
  },
  {
   "cell_type": "code",
   "execution_count": 112,
   "id": "9250d9f2",
   "metadata": {},
   "outputs": [
    {
     "data": {
      "text/plain": [
       "array([[ 344, 2345],\n",
       "       [4345, 5347]])"
      ]
     },
     "execution_count": 112,
     "metadata": {},
     "output_type": "execute_result"
    }
   ],
   "source": [
    "battles[1, 1:] = 5347\n",
    "battles"
   ]
  },
  {
   "cell_type": "markdown",
   "id": "291f3fba",
   "metadata": {},
   "source": []
  }
 ],
 "metadata": {
  "kernelspec": {
   "display_name": "Python 3 (ipykernel)",
   "language": "python",
   "name": "python3"
  },
  "language_info": {
   "codemirror_mode": {
    "name": "ipython",
    "version": 3
   },
   "file_extension": ".py",
   "mimetype": "text/x-python",
   "name": "python",
   "nbconvert_exporter": "python",
   "pygments_lexer": "ipython3",
   "version": "3.9.12"
  }
 },
 "nbformat": 4,
 "nbformat_minor": 5
}
