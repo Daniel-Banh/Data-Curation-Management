{
 "cells": [
  {
   "cell_type": "markdown",
   "id": "78636b97",
   "metadata": {},
   "source": [
    "These are five Oscar-nominated (Best Picture, 2022) movies and their IMDB, Rotten tomatoes and Metacritic scores respectively:\n",
    "\n",
    "CODA: 8.1, 96, 75\n",
    "Belfast: 7.4, 87, 75\n",
    "King Richard: 7.6, 90, 76\n",
    "Licorice Pizza: 7.9, 91, 90\n",
    "Dune: 8.1, 83, 74\n",
    "    \n",
    "Create a dataframe, df, that stores these three types of scores with axis labels as respective movie names and column labels as 'IMDB', 'Rotten tomatoes' and 'Metacritic' respectively. (2 points)\n",
    "Name the df's index as 'movies' and its columns as 'scores'. (1 point)\n",
    "Use df to display the metacritic scores of CODA and Dune. (1 point)\n",
    "Sort df by movie names. (1 point)\n",
    "Sort df by score names. (1 point)\n",
    "Sort df by IMDB scores in descending order. (1 point)\n",
    "Sort df first by Metacritic scores and next by Rotten Tomatoes scores. (1 point)\n",
    "Update df to change the IMDB score for 'Licorice Pizza' to 8.5. (1 point)\n",
    "Drop 'King Richard' from df. (1 point)"
   ]
  },
  {
   "cell_type": "markdown",
   "id": "767b7cc0",
   "metadata": {},
   "source": [
    "Create a dataframe, df, that stores these three types of scores with axis labels as respective movie names and column labels as 'IMDB', 'Rotten tomatoes' and 'Metacritic' respectively. (2 points)"
   ]
  },
  {
   "cell_type": "code",
   "execution_count": 1,
   "id": "2deaaac9",
   "metadata": {},
   "outputs": [],
   "source": [
    "import pandas as pd\n",
    "from pandas import Series, DataFrame"
   ]
  },
  {
   "cell_type": "code",
   "execution_count": 2,
   "id": "37005522",
   "metadata": {},
   "outputs": [],
   "source": [
    "import numpy as np"
   ]
  },
  {
   "cell_type": "code",
   "execution_count": 3,
   "id": "5eb16422",
   "metadata": {},
   "outputs": [
    {
     "data": {
      "text/html": [
       "<div>\n",
       "<style scoped>\n",
       "    .dataframe tbody tr th:only-of-type {\n",
       "        vertical-align: middle;\n",
       "    }\n",
       "\n",
       "    .dataframe tbody tr th {\n",
       "        vertical-align: top;\n",
       "    }\n",
       "\n",
       "    .dataframe thead th {\n",
       "        text-align: right;\n",
       "    }\n",
       "</style>\n",
       "<table border=\"1\" class=\"dataframe\">\n",
       "  <thead>\n",
       "    <tr style=\"text-align: right;\">\n",
       "      <th></th>\n",
       "      <th>IMDB</th>\n",
       "      <th>Rotten tomatoes</th>\n",
       "      <th>Metacritic</th>\n",
       "    </tr>\n",
       "  </thead>\n",
       "  <tbody>\n",
       "    <tr>\n",
       "      <th>Coda</th>\n",
       "      <td>8.1</td>\n",
       "      <td>96</td>\n",
       "      <td>75</td>\n",
       "    </tr>\n",
       "    <tr>\n",
       "      <th>Belfast</th>\n",
       "      <td>7.4</td>\n",
       "      <td>87</td>\n",
       "      <td>75</td>\n",
       "    </tr>\n",
       "    <tr>\n",
       "      <th>King Richard</th>\n",
       "      <td>7.6</td>\n",
       "      <td>90</td>\n",
       "      <td>76</td>\n",
       "    </tr>\n",
       "    <tr>\n",
       "      <th>Licorice Pizza</th>\n",
       "      <td>7.9</td>\n",
       "      <td>91</td>\n",
       "      <td>90</td>\n",
       "    </tr>\n",
       "    <tr>\n",
       "      <th>Dune</th>\n",
       "      <td>8.1</td>\n",
       "      <td>83</td>\n",
       "      <td>74</td>\n",
       "    </tr>\n",
       "  </tbody>\n",
       "</table>\n",
       "</div>"
      ],
      "text/plain": [
       "                IMDB  Rotten tomatoes  Metacritic\n",
       "Coda             8.1               96          75\n",
       "Belfast          7.4               87          75\n",
       "King Richard     7.6               90          76\n",
       "Licorice Pizza   7.9               91          90\n",
       "Dune             8.1               83          74"
      ]
     },
     "execution_count": 3,
     "metadata": {},
     "output_type": "execute_result"
    }
   ],
   "source": [
    "oscars_data = {'IMDB' : [8.1,7.4,7.6,7.9,8.1],\n",
    "              'Rotten tomatoes' : [96,87,90,91,83],\n",
    "              'Metacritic' : [75,75,76,90,74]}\n",
    "df=DataFrame(oscars_data, index=['Coda','Belfast','King Richard','Licorice Pizza','Dune'])\n",
    "df"
   ]
  },
  {
   "cell_type": "markdown",
   "id": "659deb9e",
   "metadata": {},
   "source": [
    "Name the df's index as 'movies' and its columns as 'scores'. (1 point)"
   ]
  },
  {
   "cell_type": "code",
   "execution_count": 4,
   "id": "d4c69560",
   "metadata": {},
   "outputs": [
    {
     "data": {
      "text/html": [
       "<div>\n",
       "<style scoped>\n",
       "    .dataframe tbody tr th:only-of-type {\n",
       "        vertical-align: middle;\n",
       "    }\n",
       "\n",
       "    .dataframe tbody tr th {\n",
       "        vertical-align: top;\n",
       "    }\n",
       "\n",
       "    .dataframe thead th {\n",
       "        text-align: right;\n",
       "    }\n",
       "</style>\n",
       "<table border=\"1\" class=\"dataframe\">\n",
       "  <thead>\n",
       "    <tr style=\"text-align: right;\">\n",
       "      <th>scores</th>\n",
       "      <th>IMDB</th>\n",
       "      <th>Rotten tomatoes</th>\n",
       "      <th>Metacritic</th>\n",
       "    </tr>\n",
       "    <tr>\n",
       "      <th>movies</th>\n",
       "      <th></th>\n",
       "      <th></th>\n",
       "      <th></th>\n",
       "    </tr>\n",
       "  </thead>\n",
       "  <tbody>\n",
       "    <tr>\n",
       "      <th>Coda</th>\n",
       "      <td>8.1</td>\n",
       "      <td>96</td>\n",
       "      <td>75</td>\n",
       "    </tr>\n",
       "    <tr>\n",
       "      <th>Belfast</th>\n",
       "      <td>7.4</td>\n",
       "      <td>87</td>\n",
       "      <td>75</td>\n",
       "    </tr>\n",
       "    <tr>\n",
       "      <th>King Richard</th>\n",
       "      <td>7.6</td>\n",
       "      <td>90</td>\n",
       "      <td>76</td>\n",
       "    </tr>\n",
       "    <tr>\n",
       "      <th>Licorice Pizza</th>\n",
       "      <td>7.9</td>\n",
       "      <td>91</td>\n",
       "      <td>90</td>\n",
       "    </tr>\n",
       "    <tr>\n",
       "      <th>Dune</th>\n",
       "      <td>8.1</td>\n",
       "      <td>83</td>\n",
       "      <td>74</td>\n",
       "    </tr>\n",
       "  </tbody>\n",
       "</table>\n",
       "</div>"
      ],
      "text/plain": [
       "scores          IMDB  Rotten tomatoes  Metacritic\n",
       "movies                                           \n",
       "Coda             8.1               96          75\n",
       "Belfast          7.4               87          75\n",
       "King Richard     7.6               90          76\n",
       "Licorice Pizza   7.9               91          90\n",
       "Dune             8.1               83          74"
      ]
     },
     "execution_count": 4,
     "metadata": {},
     "output_type": "execute_result"
    }
   ],
   "source": [
    "df.index.name='movies'\n",
    "df.columns.name='scores'\n",
    "df"
   ]
  },
  {
   "cell_type": "markdown",
   "id": "7937a251",
   "metadata": {},
   "source": [
    "Use df to display the metacritic scores of CODA and Dune. (1 point)"
   ]
  },
  {
   "cell_type": "code",
   "execution_count": 5,
   "id": "34396e84",
   "metadata": {},
   "outputs": [
    {
     "data": {
      "text/html": [
       "<div>\n",
       "<style scoped>\n",
       "    .dataframe tbody tr th:only-of-type {\n",
       "        vertical-align: middle;\n",
       "    }\n",
       "\n",
       "    .dataframe tbody tr th {\n",
       "        vertical-align: top;\n",
       "    }\n",
       "\n",
       "    .dataframe thead th {\n",
       "        text-align: right;\n",
       "    }\n",
       "</style>\n",
       "<table border=\"1\" class=\"dataframe\">\n",
       "  <thead>\n",
       "    <tr style=\"text-align: right;\">\n",
       "      <th>scores</th>\n",
       "      <th>Metacritic</th>\n",
       "    </tr>\n",
       "    <tr>\n",
       "      <th>movies</th>\n",
       "      <th></th>\n",
       "    </tr>\n",
       "  </thead>\n",
       "  <tbody>\n",
       "    <tr>\n",
       "      <th>Coda</th>\n",
       "      <td>75</td>\n",
       "    </tr>\n",
       "    <tr>\n",
       "      <th>Dune</th>\n",
       "      <td>74</td>\n",
       "    </tr>\n",
       "  </tbody>\n",
       "</table>\n",
       "</div>"
      ],
      "text/plain": [
       "scores  Metacritic\n",
       "movies            \n",
       "Coda            75\n",
       "Dune            74"
      ]
     },
     "execution_count": 5,
     "metadata": {},
     "output_type": "execute_result"
    }
   ],
   "source": [
    "df.loc[['Coda','Dune'],['Metacritic']]"
   ]
  },
  {
   "cell_type": "markdown",
   "id": "1a6be9e4",
   "metadata": {},
   "source": [
    "Sort df by movie names. (1 point)"
   ]
  },
  {
   "cell_type": "code",
   "execution_count": 6,
   "id": "b799cf0c",
   "metadata": {},
   "outputs": [
    {
     "data": {
      "text/html": [
       "<div>\n",
       "<style scoped>\n",
       "    .dataframe tbody tr th:only-of-type {\n",
       "        vertical-align: middle;\n",
       "    }\n",
       "\n",
       "    .dataframe tbody tr th {\n",
       "        vertical-align: top;\n",
       "    }\n",
       "\n",
       "    .dataframe thead th {\n",
       "        text-align: right;\n",
       "    }\n",
       "</style>\n",
       "<table border=\"1\" class=\"dataframe\">\n",
       "  <thead>\n",
       "    <tr style=\"text-align: right;\">\n",
       "      <th>scores</th>\n",
       "      <th>IMDB</th>\n",
       "      <th>Rotten tomatoes</th>\n",
       "      <th>Metacritic</th>\n",
       "    </tr>\n",
       "    <tr>\n",
       "      <th>movies</th>\n",
       "      <th></th>\n",
       "      <th></th>\n",
       "      <th></th>\n",
       "    </tr>\n",
       "  </thead>\n",
       "  <tbody>\n",
       "    <tr>\n",
       "      <th>Belfast</th>\n",
       "      <td>7.4</td>\n",
       "      <td>87</td>\n",
       "      <td>75</td>\n",
       "    </tr>\n",
       "    <tr>\n",
       "      <th>Coda</th>\n",
       "      <td>8.1</td>\n",
       "      <td>96</td>\n",
       "      <td>75</td>\n",
       "    </tr>\n",
       "    <tr>\n",
       "      <th>Dune</th>\n",
       "      <td>8.1</td>\n",
       "      <td>83</td>\n",
       "      <td>74</td>\n",
       "    </tr>\n",
       "    <tr>\n",
       "      <th>King Richard</th>\n",
       "      <td>7.6</td>\n",
       "      <td>90</td>\n",
       "      <td>76</td>\n",
       "    </tr>\n",
       "    <tr>\n",
       "      <th>Licorice Pizza</th>\n",
       "      <td>7.9</td>\n",
       "      <td>91</td>\n",
       "      <td>90</td>\n",
       "    </tr>\n",
       "  </tbody>\n",
       "</table>\n",
       "</div>"
      ],
      "text/plain": [
       "scores          IMDB  Rotten tomatoes  Metacritic\n",
       "movies                                           \n",
       "Belfast          7.4               87          75\n",
       "Coda             8.1               96          75\n",
       "Dune             8.1               83          74\n",
       "King Richard     7.6               90          76\n",
       "Licorice Pizza   7.9               91          90"
      ]
     },
     "execution_count": 6,
     "metadata": {},
     "output_type": "execute_result"
    }
   ],
   "source": [
    "df.sort_index()"
   ]
  },
  {
   "cell_type": "markdown",
   "id": "4eb6d55e",
   "metadata": {},
   "source": [
    "Sort df by score names. (1 point)\n"
   ]
  },
  {
   "cell_type": "code",
   "execution_count": 7,
   "id": "71191772",
   "metadata": {},
   "outputs": [
    {
     "data": {
      "text/html": [
       "<div>\n",
       "<style scoped>\n",
       "    .dataframe tbody tr th:only-of-type {\n",
       "        vertical-align: middle;\n",
       "    }\n",
       "\n",
       "    .dataframe tbody tr th {\n",
       "        vertical-align: top;\n",
       "    }\n",
       "\n",
       "    .dataframe thead th {\n",
       "        text-align: right;\n",
       "    }\n",
       "</style>\n",
       "<table border=\"1\" class=\"dataframe\">\n",
       "  <thead>\n",
       "    <tr style=\"text-align: right;\">\n",
       "      <th>scores</th>\n",
       "      <th>IMDB</th>\n",
       "      <th>Metacritic</th>\n",
       "      <th>Rotten tomatoes</th>\n",
       "    </tr>\n",
       "    <tr>\n",
       "      <th>movies</th>\n",
       "      <th></th>\n",
       "      <th></th>\n",
       "      <th></th>\n",
       "    </tr>\n",
       "  </thead>\n",
       "  <tbody>\n",
       "    <tr>\n",
       "      <th>Coda</th>\n",
       "      <td>8.1</td>\n",
       "      <td>75</td>\n",
       "      <td>96</td>\n",
       "    </tr>\n",
       "    <tr>\n",
       "      <th>Belfast</th>\n",
       "      <td>7.4</td>\n",
       "      <td>75</td>\n",
       "      <td>87</td>\n",
       "    </tr>\n",
       "    <tr>\n",
       "      <th>King Richard</th>\n",
       "      <td>7.6</td>\n",
       "      <td>76</td>\n",
       "      <td>90</td>\n",
       "    </tr>\n",
       "    <tr>\n",
       "      <th>Licorice Pizza</th>\n",
       "      <td>7.9</td>\n",
       "      <td>90</td>\n",
       "      <td>91</td>\n",
       "    </tr>\n",
       "    <tr>\n",
       "      <th>Dune</th>\n",
       "      <td>8.1</td>\n",
       "      <td>74</td>\n",
       "      <td>83</td>\n",
       "    </tr>\n",
       "  </tbody>\n",
       "</table>\n",
       "</div>"
      ],
      "text/plain": [
       "scores          IMDB  Metacritic  Rotten tomatoes\n",
       "movies                                           \n",
       "Coda             8.1          75               96\n",
       "Belfast          7.4          75               87\n",
       "King Richard     7.6          76               90\n",
       "Licorice Pizza   7.9          90               91\n",
       "Dune             8.1          74               83"
      ]
     },
     "execution_count": 7,
     "metadata": {},
     "output_type": "execute_result"
    }
   ],
   "source": [
    "df.sort_index(axis='columns')"
   ]
  },
  {
   "cell_type": "markdown",
   "id": "52923cf8",
   "metadata": {},
   "source": [
    "Sort df by IMDB scores in descending order. (1 point)\n"
   ]
  },
  {
   "cell_type": "code",
   "execution_count": 8,
   "id": "9bc03073",
   "metadata": {},
   "outputs": [
    {
     "data": {
      "text/html": [
       "<div>\n",
       "<style scoped>\n",
       "    .dataframe tbody tr th:only-of-type {\n",
       "        vertical-align: middle;\n",
       "    }\n",
       "\n",
       "    .dataframe tbody tr th {\n",
       "        vertical-align: top;\n",
       "    }\n",
       "\n",
       "    .dataframe thead th {\n",
       "        text-align: right;\n",
       "    }\n",
       "</style>\n",
       "<table border=\"1\" class=\"dataframe\">\n",
       "  <thead>\n",
       "    <tr style=\"text-align: right;\">\n",
       "      <th>scores</th>\n",
       "      <th>IMDB</th>\n",
       "      <th>Rotten tomatoes</th>\n",
       "      <th>Metacritic</th>\n",
       "    </tr>\n",
       "    <tr>\n",
       "      <th>movies</th>\n",
       "      <th></th>\n",
       "      <th></th>\n",
       "      <th></th>\n",
       "    </tr>\n",
       "  </thead>\n",
       "  <tbody>\n",
       "    <tr>\n",
       "      <th>Coda</th>\n",
       "      <td>8.1</td>\n",
       "      <td>96</td>\n",
       "      <td>75</td>\n",
       "    </tr>\n",
       "    <tr>\n",
       "      <th>Dune</th>\n",
       "      <td>8.1</td>\n",
       "      <td>83</td>\n",
       "      <td>74</td>\n",
       "    </tr>\n",
       "    <tr>\n",
       "      <th>Licorice Pizza</th>\n",
       "      <td>7.9</td>\n",
       "      <td>91</td>\n",
       "      <td>90</td>\n",
       "    </tr>\n",
       "    <tr>\n",
       "      <th>King Richard</th>\n",
       "      <td>7.6</td>\n",
       "      <td>90</td>\n",
       "      <td>76</td>\n",
       "    </tr>\n",
       "    <tr>\n",
       "      <th>Belfast</th>\n",
       "      <td>7.4</td>\n",
       "      <td>87</td>\n",
       "      <td>75</td>\n",
       "    </tr>\n",
       "  </tbody>\n",
       "</table>\n",
       "</div>"
      ],
      "text/plain": [
       "scores          IMDB  Rotten tomatoes  Metacritic\n",
       "movies                                           \n",
       "Coda             8.1               96          75\n",
       "Dune             8.1               83          74\n",
       "Licorice Pizza   7.9               91          90\n",
       "King Richard     7.6               90          76\n",
       "Belfast          7.4               87          75"
      ]
     },
     "execution_count": 8,
     "metadata": {},
     "output_type": "execute_result"
    }
   ],
   "source": [
    "df.sort_values(by='IMDB', ascending=False)"
   ]
  },
  {
   "cell_type": "markdown",
   "id": "e0a8f983",
   "metadata": {},
   "source": [
    "Sort df first by Metacritic scores and next by Rotten Tomatoes scores. (1 point)\n"
   ]
  },
  {
   "cell_type": "code",
   "execution_count": 9,
   "id": "84585b2e",
   "metadata": {},
   "outputs": [
    {
     "data": {
      "text/html": [
       "<div>\n",
       "<style scoped>\n",
       "    .dataframe tbody tr th:only-of-type {\n",
       "        vertical-align: middle;\n",
       "    }\n",
       "\n",
       "    .dataframe tbody tr th {\n",
       "        vertical-align: top;\n",
       "    }\n",
       "\n",
       "    .dataframe thead th {\n",
       "        text-align: right;\n",
       "    }\n",
       "</style>\n",
       "<table border=\"1\" class=\"dataframe\">\n",
       "  <thead>\n",
       "    <tr style=\"text-align: right;\">\n",
       "      <th>scores</th>\n",
       "      <th>IMDB</th>\n",
       "      <th>Rotten tomatoes</th>\n",
       "      <th>Metacritic</th>\n",
       "    </tr>\n",
       "    <tr>\n",
       "      <th>movies</th>\n",
       "      <th></th>\n",
       "      <th></th>\n",
       "      <th></th>\n",
       "    </tr>\n",
       "  </thead>\n",
       "  <tbody>\n",
       "    <tr>\n",
       "      <th>Dune</th>\n",
       "      <td>8.1</td>\n",
       "      <td>83</td>\n",
       "      <td>74</td>\n",
       "    </tr>\n",
       "    <tr>\n",
       "      <th>Belfast</th>\n",
       "      <td>7.4</td>\n",
       "      <td>87</td>\n",
       "      <td>75</td>\n",
       "    </tr>\n",
       "    <tr>\n",
       "      <th>Coda</th>\n",
       "      <td>8.1</td>\n",
       "      <td>96</td>\n",
       "      <td>75</td>\n",
       "    </tr>\n",
       "    <tr>\n",
       "      <th>King Richard</th>\n",
       "      <td>7.6</td>\n",
       "      <td>90</td>\n",
       "      <td>76</td>\n",
       "    </tr>\n",
       "    <tr>\n",
       "      <th>Licorice Pizza</th>\n",
       "      <td>7.9</td>\n",
       "      <td>91</td>\n",
       "      <td>90</td>\n",
       "    </tr>\n",
       "  </tbody>\n",
       "</table>\n",
       "</div>"
      ],
      "text/plain": [
       "scores          IMDB  Rotten tomatoes  Metacritic\n",
       "movies                                           \n",
       "Dune             8.1               83          74\n",
       "Belfast          7.4               87          75\n",
       "Coda             8.1               96          75\n",
       "King Richard     7.6               90          76\n",
       "Licorice Pizza   7.9               91          90"
      ]
     },
     "execution_count": 9,
     "metadata": {},
     "output_type": "execute_result"
    }
   ],
   "source": [
    "df.sort_values(by=['Metacritic','Rotten tomatoes'])"
   ]
  },
  {
   "cell_type": "markdown",
   "id": "deb7e178",
   "metadata": {},
   "source": [
    "Update df to change the IMDB score for 'Licorice Pizza' to 8.5. (1 point)\n"
   ]
  },
  {
   "cell_type": "code",
   "execution_count": 10,
   "id": "6bb05ad0",
   "metadata": {},
   "outputs": [
    {
     "data": {
      "text/html": [
       "<div>\n",
       "<style scoped>\n",
       "    .dataframe tbody tr th:only-of-type {\n",
       "        vertical-align: middle;\n",
       "    }\n",
       "\n",
       "    .dataframe tbody tr th {\n",
       "        vertical-align: top;\n",
       "    }\n",
       "\n",
       "    .dataframe thead th {\n",
       "        text-align: right;\n",
       "    }\n",
       "</style>\n",
       "<table border=\"1\" class=\"dataframe\">\n",
       "  <thead>\n",
       "    <tr style=\"text-align: right;\">\n",
       "      <th>scores</th>\n",
       "      <th>IMDB</th>\n",
       "      <th>Rotten tomatoes</th>\n",
       "      <th>Metacritic</th>\n",
       "    </tr>\n",
       "    <tr>\n",
       "      <th>movies</th>\n",
       "      <th></th>\n",
       "      <th></th>\n",
       "      <th></th>\n",
       "    </tr>\n",
       "  </thead>\n",
       "  <tbody>\n",
       "    <tr>\n",
       "      <th>Coda</th>\n",
       "      <td>8.1</td>\n",
       "      <td>96</td>\n",
       "      <td>75</td>\n",
       "    </tr>\n",
       "    <tr>\n",
       "      <th>Belfast</th>\n",
       "      <td>7.4</td>\n",
       "      <td>87</td>\n",
       "      <td>75</td>\n",
       "    </tr>\n",
       "    <tr>\n",
       "      <th>King Richard</th>\n",
       "      <td>7.6</td>\n",
       "      <td>90</td>\n",
       "      <td>76</td>\n",
       "    </tr>\n",
       "    <tr>\n",
       "      <th>Licorice Pizza</th>\n",
       "      <td>8.5</td>\n",
       "      <td>91</td>\n",
       "      <td>90</td>\n",
       "    </tr>\n",
       "    <tr>\n",
       "      <th>Dune</th>\n",
       "      <td>8.1</td>\n",
       "      <td>83</td>\n",
       "      <td>74</td>\n",
       "    </tr>\n",
       "  </tbody>\n",
       "</table>\n",
       "</div>"
      ],
      "text/plain": [
       "scores          IMDB  Rotten tomatoes  Metacritic\n",
       "movies                                           \n",
       "Coda             8.1               96          75\n",
       "Belfast          7.4               87          75\n",
       "King Richard     7.6               90          76\n",
       "Licorice Pizza   8.5               91          90\n",
       "Dune             8.1               83          74"
      ]
     },
     "execution_count": 10,
     "metadata": {},
     "output_type": "execute_result"
    }
   ],
   "source": [
    "df.loc[['Licorice Pizza'],['IMDB']]=8.5\n",
    "df"
   ]
  },
  {
   "cell_type": "markdown",
   "id": "09cdf99c",
   "metadata": {},
   "source": [
    "Drop 'King Richard' from df. (1 point)"
   ]
  },
  {
   "cell_type": "code",
   "execution_count": 11,
   "id": "03920aef",
   "metadata": {},
   "outputs": [
    {
     "data": {
      "text/html": [
       "<div>\n",
       "<style scoped>\n",
       "    .dataframe tbody tr th:only-of-type {\n",
       "        vertical-align: middle;\n",
       "    }\n",
       "\n",
       "    .dataframe tbody tr th {\n",
       "        vertical-align: top;\n",
       "    }\n",
       "\n",
       "    .dataframe thead th {\n",
       "        text-align: right;\n",
       "    }\n",
       "</style>\n",
       "<table border=\"1\" class=\"dataframe\">\n",
       "  <thead>\n",
       "    <tr style=\"text-align: right;\">\n",
       "      <th>scores</th>\n",
       "      <th>IMDB</th>\n",
       "      <th>Rotten tomatoes</th>\n",
       "      <th>Metacritic</th>\n",
       "    </tr>\n",
       "    <tr>\n",
       "      <th>movies</th>\n",
       "      <th></th>\n",
       "      <th></th>\n",
       "      <th></th>\n",
       "    </tr>\n",
       "  </thead>\n",
       "  <tbody>\n",
       "    <tr>\n",
       "      <th>Coda</th>\n",
       "      <td>8.1</td>\n",
       "      <td>96</td>\n",
       "      <td>75</td>\n",
       "    </tr>\n",
       "    <tr>\n",
       "      <th>Belfast</th>\n",
       "      <td>7.4</td>\n",
       "      <td>87</td>\n",
       "      <td>75</td>\n",
       "    </tr>\n",
       "    <tr>\n",
       "      <th>Licorice Pizza</th>\n",
       "      <td>8.5</td>\n",
       "      <td>91</td>\n",
       "      <td>90</td>\n",
       "    </tr>\n",
       "    <tr>\n",
       "      <th>Dune</th>\n",
       "      <td>8.1</td>\n",
       "      <td>83</td>\n",
       "      <td>74</td>\n",
       "    </tr>\n",
       "  </tbody>\n",
       "</table>\n",
       "</div>"
      ],
      "text/plain": [
       "scores          IMDB  Rotten tomatoes  Metacritic\n",
       "movies                                           \n",
       "Coda             8.1               96          75\n",
       "Belfast          7.4               87          75\n",
       "Licorice Pizza   8.5               91          90\n",
       "Dune             8.1               83          74"
      ]
     },
     "execution_count": 11,
     "metadata": {},
     "output_type": "execute_result"
    }
   ],
   "source": [
    "df.drop(['King Richard'])"
   ]
  },
  {
   "cell_type": "markdown",
   "id": "097f1cb6",
   "metadata": {},
   "source": []
  },
  {
   "cell_type": "code",
   "execution_count": null,
   "id": "60cd6633",
   "metadata": {},
   "outputs": [],
   "source": []
  }
 ],
 "metadata": {
  "kernelspec": {
   "display_name": "Python 3 (ipykernel)",
   "language": "python",
   "name": "python3"
  },
  "language_info": {
   "codemirror_mode": {
    "name": "ipython",
    "version": 3
   },
   "file_extension": ".py",
   "mimetype": "text/x-python",
   "name": "python",
   "nbconvert_exporter": "python",
   "pygments_lexer": "ipython3",
   "version": "3.9.12"
  }
 },
 "nbformat": 4,
 "nbformat_minor": 5
}
